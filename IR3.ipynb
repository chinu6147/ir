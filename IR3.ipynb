{
 "cells": [
  {
   "cell_type": "code",
   "execution_count": 2,
   "id": "6b78d051",
   "metadata": {
    "scrolled": false
   },
   "outputs": [
    {
     "name": "stderr",
     "output_type": "stream",
     "text": [
      "WARNING:pgmpy:BayesianModel has been renamed to BayesianNetwork. Please use BayesianNetwork class, BayesianModel will be removed in future.\n"
     ]
    },
    {
     "name": "stdout",
     "output_type": "stream",
     "text": [
      "For Age enter SuperSeniorCitizen:0, SeniorCitizen:1, MiddleAged:2, Youth:3, Teen:4\n",
      "For Gender enter Male:0, Female:1\n",
      "For Family History enter Yes:1, No:0\n",
      "For Diet enter High:0, Medium:1\n",
      "for LifeStyle enter Athlete:0, Active:1, Moderate:2, Sedentary:3\n",
      "for Cholesterol enter High:0, BorderLine:1, Normal:2\n",
      "Enter Age: 3\n",
      "Enter Gender: 0\n",
      "Enter Family History: 0\n",
      "Enter Diet: 0\n",
      "Enter Lifestyle: 1\n",
      "Enter Cholestrol: 2\n"
     ]
    },
    {
     "name": "stderr",
     "output_type": "stream",
     "text": [
      "WARNING:pgmpy:BayesianModel has been renamed to BayesianNetwork. Please use BayesianNetwork class, BayesianModel will be removed in future.\n",
      "WARNING:pgmpy:BayesianModel has been renamed to BayesianNetwork. Please use BayesianNetwork class, BayesianModel will be removed in future.\n"
     ]
    },
    {
     "name": "stdout",
     "output_type": "stream",
     "text": [
      "+-----------------+---------------------+\n",
      "| heartdisease    |   phi(heartdisease) |\n",
      "+=================+=====================+\n",
      "| heartdisease(0) |              0.0000 |\n",
      "+-----------------+---------------------+\n",
      "| heartdisease(1) |              1.0000 |\n",
      "+-----------------+---------------------+\n"
     ]
    }
   ],
   "source": [
    "pip install pgmpy\n",
    "\n",
    "import pandas as pd\n",
    "from pgmpy.estimators import MaximumLikelihoodEstimator\n",
    "from pgmpy.models import BayesianModel\n",
    "from pgmpy.inference import VariableElimination\n",
    "import warnings\n",
    "warnings.filterwarnings('ignore')\n",
    "\n",
    "data = pd.read_csv(\"heart disease.csv\")\n",
    "heart_disease = pd.DataFrame(data)\n",
    "heart_disease\n",
    "\n",
    "model = BayesianModel([\n",
    "    ('age', 'Lifestyle'),\n",
    "    ('Gender', 'Lifestyle'),\n",
    "    ('Family', 'heartdisease'),\n",
    "    ('diet', 'cholestrol'),\n",
    "    ('Lifestyle', 'diet'),\n",
    "    ('cholestrol', 'heartdisease'),\n",
    "    ('diet', 'cholestrol')\n",
    "])\n",
    "\n",
    "model.fit(heart_disease, estimator=MaximumLikelihoodEstimator)\n",
    "\n",
    "HeartDisease_infer = VariableElimination(model)\n",
    "\n",
    "print('For Age enter SuperSeniorCitizen:0, SeniorCitizen:1, MiddleAged:2, Youth:3, Teen:4')\n",
    "print('For Gender enter Male:0, Female:1')\n",
    "print('For Family History enter Yes:1, No:0')\n",
    "print('For Diet enter High:0, Medium:1')\n",
    "print('for LifeStyle enter Athlete:0, Active:1, Moderate:2, Sedentary:3')\n",
    "print('for Cholesterol enter High:0, BorderLine:1, Normal:2')\n",
    "\n",
    "\n",
    "q = HeartDisease_infer.query(variables=['heartdisease'], evidence={\n",
    "    'age': int(input('Enter Age: ')),\n",
    "    'Gender': int(input('Enter Gender: ')),\n",
    "    'Family': int(input('Enter Family History: ')),\n",
    "    'diet': int(input('Enter Diet: ')),\n",
    "    'Lifestyle': int(input('Enter Lifestyle: ')),\n",
    "    'cholestrol': int(input('Enter Cholestrol: '))\n",
    "})\n",
    "\n",
    "print(q)"
   ]
  },
  {
   "cell_type": "code",
   "execution_count": null,
   "id": "fe0cbbf2",
   "metadata": {},
   "outputs": [],
   "source": []
  }
 ],
 "metadata": {
  "kernelspec": {
   "display_name": "Python 3 (ipykernel)",
   "language": "python",
   "name": "python3"
  },
  "language_info": {
   "codemirror_mode": {
    "name": "ipython",
    "version": 3
   },
   "file_extension": ".py",
   "mimetype": "text/x-python",
   "name": "python",
   "nbconvert_exporter": "python",
   "pygments_lexer": "ipython3",
   "version": "3.11.5"
  }
 },
 "nbformat": 4,
 "nbformat_minor": 5
}

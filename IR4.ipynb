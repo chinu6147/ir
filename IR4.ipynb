{
 "cells": [
  {
   "cell_type": "code",
   "execution_count": 1,
   "id": "e0ba381a",
   "metadata": {},
   "outputs": [
    {
     "data": {
      "text/plain": [
       "0.9913854989231874"
      ]
     },
     "execution_count": 1,
     "metadata": {},
     "output_type": "execute_result"
    }
   ],
   "source": [
    "import pandas as pd\n",
    "import numpy as np\n",
    "from sklearn.model_selection import train_test_split\n",
    "from sklearn.feature_extraction.text import CountVectorizer\n",
    "from sklearn.naive_bayes import MultinomialNB\n",
    "\n",
    "spam_df = pd.read_csv(\"spam.csv\")\n",
    "\n",
    "spam_df\n",
    "\n",
    "spam_df.groupby('Category').describe()\n",
    "\n",
    "spam_df['spam'] = spam_df['Category'].apply(lambda x: 1 if x == 'spam' else 0)\n",
    "\n",
    "spam_df\n",
    "\n",
    "x_train, x_test, y_train, y_test = train_test_split(spam_df.Message, spam_df.spam, test_size = 0.25)\n",
    "\n",
    "x_train\n",
    "\n",
    "cv = CountVectorizer()\n",
    "x_train_count = cv.fit_transform(x_train.values)\n",
    "\n",
    "x_train_count\n",
    "\n",
    "model = MultinomialNB()\n",
    "model.fit(x_train_count, y_train)\n",
    "\n",
    "email_ham = [\"Hey how are you?\"]\n",
    "email_ham_count = cv.transform(email_ham)\n",
    "model.predict(email_ham_count)\n",
    "\n",
    "email_spam = [\"gift \"]\n",
    "email_spam_count = cv.transform(email_spam)\n",
    "model.predict(email_spam_count)\n",
    "\n",
    "x_test_count = cv.transform(x_test)\n",
    "model.score(x_test_count, y_test)"
   ]
  },
  {
   "cell_type": "code",
   "execution_count": null,
   "id": "b0a8eb0b",
   "metadata": {},
   "outputs": [],
   "source": []
  }
 ],
 "metadata": {
  "kernelspec": {
   "display_name": "Python 3 (ipykernel)",
   "language": "python",
   "name": "python3"
  },
  "language_info": {
   "codemirror_mode": {
    "name": "ipython",
    "version": 3
   },
   "file_extension": ".py",
   "mimetype": "text/x-python",
   "name": "python",
   "nbconvert_exporter": "python",
   "pygments_lexer": "ipython3",
   "version": "3.11.5"
  }
 },
 "nbformat": 4,
 "nbformat_minor": 5
}

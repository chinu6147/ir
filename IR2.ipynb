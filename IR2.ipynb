{
 "cells": [
  {
   "cell_type": "code",
   "execution_count": 5,
   "id": "9c01023a",
   "metadata": {},
   "outputs": [
    {
     "name": "stdout",
     "output_type": "stream",
     "text": [
      "Inverted Index:\n",
      "heaven -> d1, d2, d4\n",
      "such -> d1\n",
      "a -> d1, d2\n",
      "lovely -> d1\n",
      "welcome -> d1\n",
      "to -> d1, d2, d4\n",
      "hotel -> d1\n",
      "place -> d1\n",
      "buying -> d2\n",
      "stairway -> d2\n",
      "she -> d2\n",
      "is -> d2\n",
      "it -> d3\n",
      "bad -> d3\n",
      "make -> d3\n",
      "don't -> d3\n",
      "take -> d4\n",
      "the -> d4\n",
      "me -> d4\n",
      "\n",
      "Enter a query (words separated by spaces): lovely place\n",
      "\n",
      "Documents containing the query words:\n",
      "d1\n"
     ]
    }
   ],
   "source": [
    "# Define the documents in the new format\n",
    "doc_dict = [\n",
    "    [\"d1\", \"Welcome to hotel heaven such a lovely place\"],\n",
    "    [\"d2\", \"She is buying a stairway to heaven\"],\n",
    "    [\"d3\", \"Don't make it bad\"],\n",
    "    [\"d4\", \"Take me to the heaven\"]\n",
    "]\n",
    "\n",
    "# Step 1: Tokenize the documents and create the inverted index\n",
    "inverted_index = {}\n",
    "\n",
    "# Process each document\n",
    "for doc_id, text in doc_dict:\n",
    "    # Tokenize the document: convert to lowercase and split into words\n",
    "    tokens = text.lower().split()\n",
    "    \n",
    "    # Add the document id to the inverted index for each term\n",
    "    for term in set(tokens):  # Use set to avoid adding the same document multiple times\n",
    "        if term not in inverted_index:\n",
    "            inverted_index[term] = []\n",
    "        inverted_index[term].append(doc_id)\n",
    "\n",
    "# Step 2: Print the inverted index\n",
    "print(\"Inverted Index:\")\n",
    "for term, documents in inverted_index.items():\n",
    "    print(f\"{term} -> {', '.join(documents)}\")\n",
    "\n",
    "# Step 3: Add manual input to search the documents\n",
    "query = input(\"\\nEnter a query (words separated by spaces): \").lower().split()\n",
    "\n",
    "# Initialize an empty set to store the documents that match the query\n",
    "matching_documents = set()\n",
    "\n",
    "# For each word in the query, check if it's in the inverted index\n",
    "for word in query:\n",
    "    if word in inverted_index:\n",
    "        matching_documents.update(inverted_index[word])\n",
    "\n",
    "# Step 4: Display the result\n",
    "if matching_documents:\n",
    "    print(\"\\nDocuments containing the query words:\")\n",
    "    for doc in sorted(matching_documents):\n",
    "        print(doc)\n",
    "else:\n",
    "    print(\"\\nNo documents found for the given query.\")"
   ]
  },
  {
   "cell_type": "code",
   "execution_count": null,
   "id": "72ea1b7d",
   "metadata": {},
   "outputs": [],
   "source": []
  }
 ],
 "metadata": {
  "kernelspec": {
   "display_name": "Python 3 (ipykernel)",
   "language": "python",
   "name": "python3"
  },
  "language_info": {
   "codemirror_mode": {
    "name": "ipython",
    "version": 3
   },
   "file_extension": ".py",
   "mimetype": "text/x-python",
   "name": "python",
   "nbconvert_exporter": "python",
   "pygments_lexer": "ipython3",
   "version": "3.11.5"
  }
 },
 "nbformat": 4,
 "nbformat_minor": 5
}
